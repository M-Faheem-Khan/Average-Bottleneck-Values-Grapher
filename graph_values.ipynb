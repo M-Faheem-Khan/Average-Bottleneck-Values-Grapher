{
 "cells": [
  {
   "cell_type": "code",
   "execution_count": 5,
   "metadata": {},
   "outputs": [],
   "source": [
    "import plotly.plotly as py\n",
    "import plotly.graph_objs as go\n",
    "\n",
    "def main(file_name):\n",
    "    xdata = []\n",
    "    y_axis =[]\n",
    "    with open(file_name, \"r+\") as f:\n",
    "        content = f.read().strip().split(\",\")\n",
    "        for i in range(len(content)):\n",
    "            try:\n",
    "                content[i] = float(content[i])*10\n",
    "                xdata.append(content[i])\n",
    "            except ValueError:\n",
    "                pass\n",
    "        \n",
    "        for i in range(len(xdata)):\n",
    "            y_axis.append(i)\n",
    "            \n",
    "        trace = go.Scattergl(x = sorted(y_axis), y = sorted(xdata), mode = \"markers\")\n",
    "        data = [trace]\n",
    "        py.plot(data, filename=\"basic-sactter\")\n",
    "\n",
    "files = ['Warbler1.txt', 'Warbler2.txt', 'Warbler3.txt', 'Warbler4.txt']\n",
    "for i in files:\n",
    "    main(i)"
   ]
  },
  {
   "cell_type": "code",
   "execution_count": null,
   "metadata": {},
   "outputs": [],
   "source": []
  }
 ],
 "metadata": {
  "kernelspec": {
   "display_name": "Python 3",
   "language": "python",
   "name": "python3"
  },
  "language_info": {
   "codemirror_mode": {
    "name": "ipython",
    "version": 3
   },
   "file_extension": ".py",
   "mimetype": "text/x-python",
   "name": "python",
   "nbconvert_exporter": "python",
   "pygments_lexer": "ipython3",
   "version": "3.5.4"
  }
 },
 "nbformat": 4,
 "nbformat_minor": 2
}
